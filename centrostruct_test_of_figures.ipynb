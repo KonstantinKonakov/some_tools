{
 "cells": [
  {
   "cell_type": "markdown",
   "metadata": {},
   "source": [
    "поиск лучшего варианта расчета центра скопления точек (отражений от опоры)"
   ]
  },
  {
   "cell_type": "code",
   "execution_count": 21,
   "metadata": {},
   "outputs": [],
   "source": [
    "import pandas as pd\n",
    "import geopandas as gpd\n",
    "import numpy as np\n",
    "import matplotlib.pyplot as plt\n",
    "from shapely.geometry import Point, Polygon"
   ]
  },
  {
   "cell_type": "code",
   "execution_count": 3,
   "metadata": {},
   "outputs": [],
   "source": [
    "%matplotlib inline"
   ]
  },
  {
   "cell_type": "code",
   "execution_count": 194,
   "metadata": {},
   "outputs": [
    {
     "data": {
      "text/plain": [
       "(0    POINT (9.28986 4.10145)\n",
       " dtype: geometry,\n",
       " 0    POINT (7.56200 3.08118)\n",
       " dtype: geometry,\n",
       " 0    POINT (7.58439 2.94903)\n",
       " dtype: geometry)"
      ]
     },
     "execution_count": 194,
     "metadata": {},
     "output_type": "execute_result"
    },
    {
     "data": {
      "image/png": "[encoded data removed]",
      "text/plain": [
       "<Figure size 432x288 with 1 Axes>"
      ]
     },
     "metadata": {
      "needs_background": "light"
     },
     "output_type": "display_data"
    }
   ],
   "source": [
    "c2 = ([(0,0), (6,4), (13,7), (14,6), (14,3), (10,4)])\n",
    "c2m = Point(np.mean(c2, axis=0))\n",
    "c2a = Point(np.median(c2, axis=0))\n",
    "polygon1 = Polygon(c2)\n",
    "p = gpd.GeoSeries(polygon1)\n",
    "cc = p.convex_hull\n",
    "cc2 = cc.buffer(10)\n",
    "cc3 = cc2.centroid\n",
    "bu = p.buffer(10)\n",
    "c1 = p.centroid\n",
    "ax = p.plot(alpha=0.5)\n",
    "c1.plot(ax=ax)\n",
    "cc3.plot(ax=ax, color='red')\n",
    "#bu.plot(ax=ax, alpha=0.5)\n",
    "bu1 = bu.centroid\n",
    "bu1.plot(ax=ax, color='black')\n",
    "gpd.GeoSeries(c2m).plot(ax=ax, color='yellow')\n",
    "gpd.GeoSeries(c2a).plot(ax=ax, color='green')\n",
    "c1, bu1, cc3"
   ]
  },
  {
   "cell_type": "markdown",
   "metadata": {},
   "source": [
    "вывод - стоит использовать буфер вокруг фигуры .buffer() или .convex_hull - описывающую фигуру + буфер вокруг нее. результат примерно одинаковый.  \n",
    "учитывая что мы имеем дело с массивом точек, полигон по которым строится не пойми какой, желательно использовать .convex_hull, т.к. там идет упрощение фигуры.   \n",
    "также имеет значение выбор размера буфера - он не должен быть больше самой фигуры, желательно половину от меньшей разницы по одной из осей"
   ]
  }
 ],
 "metadata": {
  "kernelspec": {
   "display_name": "Python 3",
   "language": "python",
   "name": "python3"
  },
  "language_info": {
   "codemirror_mode": {
    "name": "ipython",
    "version": 3
   },
   "file_extension": ".py",
   "mimetype": "text/x-python",
   "name": "python",
   "nbconvert_exporter": "python",
   "pygments_lexer": "ipython3",
   "version": "3.8.5"
  }
 },
 "nbformat": 4,
 "nbformat_minor": 2
}
