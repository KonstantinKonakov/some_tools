{
 "cells": [
  {
   "cell_type": "markdown",
   "metadata": {},
   "source": [
    "try to deal with multilines"
   ]
  },
  {
   "cell_type": "code",
   "execution_count": 51,
   "metadata": {},
   "outputs": [],
   "source": [
    "import geopandas as gpd\n",
    "import pandas as pd\n",
    "from pathlib import Path\n",
    "from shapely.geometry import Point, Polygon, LineString, MultiLineString\n",
    "from shapely.ops import split\n",
    "import csv"
   ]
  },
  {
   "cell_type": "code",
   "execution_count": 2,
   "metadata": {},
   "outputs": [],
   "source": [
    "cgt_p = Path(r'D:\\python\\some_tools\\centrostruct\\ctow_test.txt')   # path to file"
   ]
  },
  {
   "cell_type": "markdown",
   "metadata": {},
   "source": [
    "read and collect information to the list of structures"
   ]
  },
  {
   "cell_type": "code",
   "execution_count": 43,
   "metadata": {},
   "outputs": [],
   "source": [
    "c_lines = []   # list of structures\n",
    "with open(cgt_p, newline='') as f:\n",
    "    reader = csv.reader(f, delimiter=' ')\n",
    "    num_of_clines = 1   # number of c-line\n",
    "    str_index = 1   # index of structure\n",
    "    for row in reader:\n",
    "        if len(row) == 4:\n",
    "            # ctow file should contain id, x, y, z in each row\n",
    "            # to c-lines list we add to each row index of stucture and number of c-line\n",
    "            c_lines.append((str_index, num_of_clines, row[0], row[1], row[2], row[3]))\n",
    "            str_index += 1   # index for next structure\n",
    "        elif len(row) == 0:\n",
    "            num_of_clines += 1    # blank row means next c-line follow\n",
    "        else:\n",
    "            print('ctow file error')"
   ]
  },
  {
   "cell_type": "code",
   "execution_count": 23,
   "metadata": {},
   "outputs": [
    {
     "data": {
      "text/plain": [
       "[(1, 1, 't1', '1', '3', '1'),\n",
       " (2, 1, 't2', '3', '2', '2'),\n",
       " (3, 1, 't3', '5', '4', '1'),\n",
       " (4, 1, 't4', '4', '6', '1'),\n",
       " (5, 1, 't5', '5', '7', '1'),\n",
       " (6, 1, 't6', '7', '6', '2'),\n",
       " (7, 1, 't7', '8', '4', '1'),\n",
       " (8, 1, 't8', '9', '3', '2'),\n",
       " (9, 1, 't9', '8', '2', '1'),\n",
       " (10, 2, 't10', '1', '1', '2'),\n",
       " (11, 2, 't2', '3', '2', '2'),\n",
       " (12, 3, 't5', '5', '7', '1'),\n",
       " (13, 3, 't11', '4', '8', '2'),\n",
       " (14, 3, 't12', '3', '8', '1'),\n",
       " (15, 3, 't13', '1', '7', '1'),\n",
       " (16, 4, 't6', '7', '6', '2'),\n",
       " (17, 4, 't14', '9', '5', '2'),\n",
       " (18, 4, 't8', '9', '3', '2')]"
      ]
     },
     "execution_count": 23,
     "metadata": {},
     "output_type": "execute_result"
    }
   ],
   "source": [
    "c_lines"
   ]
  },
  {
   "cell_type": "code",
   "execution_count": 158,
   "metadata": {},
   "outputs": [],
   "source": [
    "c_lines_p = pd.DataFrame(c_lines, columns =['index', 'c_line', 'id', 'x', 'y', 'z']).set_index('index')"
   ]
  },
  {
   "cell_type": "code",
   "execution_count": 159,
   "metadata": {},
   "outputs": [
    {
     "data": {
      "text/html": [
       "<div>\n",
       "<style scoped>\n",
       "    .dataframe tbody tr th:only-of-type {\n",
       "        vertical-align: middle;\n",
       "    }\n",
       "\n",
       "    .dataframe tbody tr th {\n",
       "        vertical-align: top;\n",
       "    }\n",
       "\n",
       "    .dataframe thead th {\n",
       "        text-align: right;\n",
       "    }\n",
       "</style>\n",
       "<table border=\"1\" class=\"dataframe\">\n",
       "  <thead>\n",
       "    <tr style=\"text-align: right;\">\n",
       "      <th></th>\n",
       "      <th>c_line</th>\n",
       "      <th>id</th>\n",
       "      <th>x</th>\n",
       "      <th>y</th>\n",
       "      <th>z</th>\n",
       "    </tr>\n",
       "    <tr>\n",
       "      <th>index</th>\n",
       "      <th></th>\n",
       "      <th></th>\n",
       "      <th></th>\n",
       "      <th></th>\n",
       "      <th></th>\n",
       "    </tr>\n",
       "  </thead>\n",
       "  <tbody>\n",
       "    <tr>\n",
       "      <th>1</th>\n",
       "      <td>1</td>\n",
       "      <td>t1</td>\n",
       "      <td>1</td>\n",
       "      <td>3</td>\n",
       "      <td>1</td>\n",
       "    </tr>\n",
       "    <tr>\n",
       "      <th>2</th>\n",
       "      <td>1</td>\n",
       "      <td>t2</td>\n",
       "      <td>3</td>\n",
       "      <td>2</td>\n",
       "      <td>2</td>\n",
       "    </tr>\n",
       "    <tr>\n",
       "      <th>3</th>\n",
       "      <td>1</td>\n",
       "      <td>t3</td>\n",
       "      <td>5</td>\n",
       "      <td>4</td>\n",
       "      <td>1</td>\n",
       "    </tr>\n",
       "    <tr>\n",
       "      <th>4</th>\n",
       "      <td>1</td>\n",
       "      <td>t4</td>\n",
       "      <td>4</td>\n",
       "      <td>6</td>\n",
       "      <td>1</td>\n",
       "    </tr>\n",
       "    <tr>\n",
       "      <th>5</th>\n",
       "      <td>1</td>\n",
       "      <td>t5</td>\n",
       "      <td>5</td>\n",
       "      <td>7</td>\n",
       "      <td>1</td>\n",
       "    </tr>\n",
       "  </tbody>\n",
       "</table>\n",
       "</div>"
      ],
      "text/plain": [
       "       c_line  id  x  y  z\n",
       "index                     \n",
       "1           1  t1  1  3  1\n",
       "2           1  t2  3  2  2\n",
       "3           1  t3  5  4  1\n",
       "4           1  t4  4  6  1\n",
       "5           1  t5  5  7  1"
      ]
     },
     "execution_count": 159,
     "metadata": {},
     "output_type": "execute_result"
    }
   ],
   "source": [
    "c_lines_p.head()"
   ]
  },
  {
   "cell_type": "code",
   "execution_count": 162,
   "metadata": {},
   "outputs": [],
   "source": [
    "c_lines_p = gpd.GeoDataFrame(c_lines_p, crs=\"EPSG:2193\", geometry=gpd.points_from_xy(c_lines_p['x'], c_lines_p['y'], c_lines_p['z']))"
   ]
  },
  {
   "cell_type": "code",
   "execution_count": 163,
   "metadata": {
    "scrolled": true
   },
   "outputs": [
    {
     "data": {
      "text/html": [
       "<div>\n",
       "<style scoped>\n",
       "    .dataframe tbody tr th:only-of-type {\n",
       "        vertical-align: middle;\n",
       "    }\n",
       "\n",
       "    .dataframe tbody tr th {\n",
       "        vertical-align: top;\n",
       "    }\n",
       "\n",
       "    .dataframe thead th {\n",
       "        text-align: right;\n",
       "    }\n",
       "</style>\n",
       "<table border=\"1\" class=\"dataframe\">\n",
       "  <thead>\n",
       "    <tr style=\"text-align: right;\">\n",
       "      <th></th>\n",
       "      <th>c_line</th>\n",
       "      <th>id</th>\n",
       "      <th>x</th>\n",
       "      <th>y</th>\n",
       "      <th>z</th>\n",
       "      <th>geometry</th>\n",
       "    </tr>\n",
       "    <tr>\n",
       "      <th>index</th>\n",
       "      <th></th>\n",
       "      <th></th>\n",
       "      <th></th>\n",
       "      <th></th>\n",
       "      <th></th>\n",
       "      <th></th>\n",
       "    </tr>\n",
       "  </thead>\n",
       "  <tbody>\n",
       "    <tr>\n",
       "      <th>1</th>\n",
       "      <td>1</td>\n",
       "      <td>t1</td>\n",
       "      <td>1</td>\n",
       "      <td>3</td>\n",
       "      <td>1</td>\n",
       "      <td>POINT Z (1.00000 3.00000 1.00000)</td>\n",
       "    </tr>\n",
       "    <tr>\n",
       "      <th>2</th>\n",
       "      <td>1</td>\n",
       "      <td>t2</td>\n",
       "      <td>3</td>\n",
       "      <td>2</td>\n",
       "      <td>2</td>\n",
       "      <td>POINT Z (3.00000 2.00000 2.00000)</td>\n",
       "    </tr>\n",
       "    <tr>\n",
       "      <th>3</th>\n",
       "      <td>1</td>\n",
       "      <td>t3</td>\n",
       "      <td>5</td>\n",
       "      <td>4</td>\n",
       "      <td>1</td>\n",
       "      <td>POINT Z (5.00000 4.00000 1.00000)</td>\n",
       "    </tr>\n",
       "    <tr>\n",
       "      <th>4</th>\n",
       "      <td>1</td>\n",
       "      <td>t4</td>\n",
       "      <td>4</td>\n",
       "      <td>6</td>\n",
       "      <td>1</td>\n",
       "      <td>POINT Z (4.00000 6.00000 1.00000)</td>\n",
       "    </tr>\n",
       "    <tr>\n",
       "      <th>5</th>\n",
       "      <td>1</td>\n",
       "      <td>t5</td>\n",
       "      <td>5</td>\n",
       "      <td>7</td>\n",
       "      <td>1</td>\n",
       "      <td>POINT Z (5.00000 7.00000 1.00000)</td>\n",
       "    </tr>\n",
       "  </tbody>\n",
       "</table>\n",
       "</div>"
      ],
      "text/plain": [
       "       c_line  id  x  y  z                           geometry\n",
       "index                                                        \n",
       "1           1  t1  1  3  1  POINT Z (1.00000 3.00000 1.00000)\n",
       "2           1  t2  3  2  2  POINT Z (3.00000 2.00000 2.00000)\n",
       "3           1  t3  5  4  1  POINT Z (5.00000 4.00000 1.00000)\n",
       "4           1  t4  4  6  1  POINT Z (4.00000 6.00000 1.00000)\n",
       "5           1  t5  5  7  1  POINT Z (5.00000 7.00000 1.00000)"
      ]
     },
     "execution_count": 163,
     "metadata": {},
     "output_type": "execute_result"
    }
   ],
   "source": [
    "c_lines_p.head()"
   ]
  },
  {
   "cell_type": "code",
   "execution_count": 114,
   "metadata": {
    "scrolled": true
   },
   "outputs": [
    {
     "data": {
      "text/plain": [
       "18"
      ]
     },
     "execution_count": 114,
     "metadata": {},
     "output_type": "execute_result"
    }
   ],
   "source": [
    "len(c_lines_p)"
   ]
  },
  {
   "cell_type": "code",
   "execution_count": 129,
   "metadata": {},
   "outputs": [],
   "source": [
    "# для коридоров достаточно 2д линий\n",
    "coo_2d = []\n",
    "line_n = 1\n",
    "spam = []\n",
    "for i in range(1, len(c_lines_p)+1):\n",
    "    if c_lines_p.loc[i, 'c_line'] == line_n:\n",
    "        spam.append((int(c_lines_p.loc[i].x), int(c_lines_p.loc[i].y)))\n",
    "        if i == len(c_lines_p): coo_2d.append(tuple(spam))\n",
    "    else:\n",
    "        \n",
    "        coo_2d.append(tuple(spam))\n",
    "        spam = []\n",
    "        line_n = c_lines_p.loc[i, 'c_line']\n",
    "        spam.append((int(c_lines_p.loc[i].x), int(c_lines_p.loc[i].y)))"
   ]
  },
  {
   "cell_type": "code",
   "execution_count": 127,
   "metadata": {},
   "outputs": [],
   "source": [
    "#  если нужны 3д линии\n",
    "coo_3d = []\n",
    "line_n = 1\n",
    "spam = []\n",
    "for i in range(1, len(c_lines_p)+1):\n",
    "    if c_lines_p.loc[i, 'c_line'] == line_n:\n",
    "        spam.append((int(c_lines_p.loc[i].x), int(c_lines_p.loc[i].y), int(c_lines_p.loc[i].z)))\n",
    "        if i == len(c_lines_p): coo_3d.append(tuple(spam))\n",
    "    else:\n",
    "        \n",
    "        coo_3d.append(tuple(spam))\n",
    "        spam = []\n",
    "        line_n = c_lines_p.loc[i, 'c_line']\n",
    "        spam.append((int(c_lines_p.loc[i].x), int(c_lines_p.loc[i].y)))"
   ]
  },
  {
   "cell_type": "code",
   "execution_count": 97,
   "metadata": {},
   "outputs": [
    {
     "data": {
      "text/plain": [
       "str"
      ]
     },
     "execution_count": 97,
     "metadata": {},
     "output_type": "execute_result"
    }
   ],
   "source": [
    "type(c_lines_p.loc[1, 'x'])   # в блокноте это стр, в самом питоне не так ??? "
   ]
  },
  {
   "cell_type": "code",
   "execution_count": 124,
   "metadata": {},
   "outputs": [
    {
     "data": {
      "text/plain": [
       "[((1, 3), (3, 2), (5, 4), (4, 6), (5, 7), (7, 6), (8, 4), (9, 3), (8, 2)),\n",
       " ((1, 1), (3, 2)),\n",
       " ((5, 7), (4, 8), (3, 8), (1, 7)),\n",
       " ((7, 6), (9, 5), (9, 3))]"
      ]
     },
     "execution_count": 124,
     "metadata": {},
     "output_type": "execute_result"
    }
   ],
   "source": [
    "coo_2d"
   ]
  },
  {
   "cell_type": "code",
   "execution_count": 164,
   "metadata": {},
   "outputs": [],
   "source": [
    "m_lines_2d = MultiLineString(coo_2d)  # переводим в мультилинии"
   ]
  },
  {
   "cell_type": "code",
   "execution_count": 122,
   "metadata": {},
   "outputs": [
    {
     "data": {
      "image/svg+xml": [
       "<svg xmlns=\"http://www.w3.org/2000/svg\" xmlns:xlink=\"http://www.w3.org/1999/xlink\" width=\"100.0\" height=\"100.0\" viewBox=\"0.6799999999999999 0.6799999999999999 8.64 7.640000000000001\" preserveAspectRatio=\"xMinYMin meet\"><g transform=\"matrix(1,0,0,-1,0,9.0)\"><g><polyline fill=\"none\" stroke=\"#66cc99\" stroke-width=\"0.1728\" points=\"1.0,3.0 3.0,2.0 5.0,4.0 4.0,6.0 5.0,7.0 7.0,6.0 8.0,4.0 9.0,3.0 8.0,2.0\" opacity=\"0.8\" /><polyline fill=\"none\" stroke=\"#66cc99\" stroke-width=\"0.1728\" points=\"1.0,1.0 3.0,2.0\" opacity=\"0.8\" /><polyline fill=\"none\" stroke=\"#66cc99\" stroke-width=\"0.1728\" points=\"5.0,7.0 4.0,8.0 3.0,8.0 1.0,7.0\" opacity=\"0.8\" /><polyline fill=\"none\" stroke=\"#66cc99\" stroke-width=\"0.1728\" points=\"7.0,6.0 9.0,5.0 9.0,3.0\" opacity=\"0.8\" /></g></g></svg>"
      ],
      "text/plain": [
       "<shapely.geometry.multilinestring.MultiLineString at 0x1a8ec57a370>"
      ]
     },
     "execution_count": 122,
     "metadata": {},
     "output_type": "execute_result"
    }
   ],
   "source": [
    "m_lines_2d"
   ]
  },
  {
   "cell_type": "code",
   "execution_count": 130,
   "metadata": {},
   "outputs": [],
   "source": [
    "koridor_full = m_lines_2d.buffer(0.5)"
   ]
  },
  {
   "cell_type": "code",
   "execution_count": 131,
   "metadata": {},
   "outputs": [
    {
     "data": {
      "image/svg+xml": [
       "<svg xmlns=\"http://www.w3.org/2000/svg\" xmlns:xlink=\"http://www.w3.org/1999/xlink\" width=\"100.0\" height=\"100.0\" viewBox=\"0.14019271785671045 0.14019271785671045 9.719799869918033 8.719799869918033\" preserveAspectRatio=\"xMinYMin meet\"><g transform=\"matrix(1,0,0,-1,0,9.000185305631453)\"><path fill-rule=\"evenodd\" fill=\"#66cc99\" stroke=\"#555555\" stroke-width=\"0.19439599739836066\" opacity=\"0.6\" d=\"M 1.881966011250105,2.0 L 0.7763932022500211,2.552786404500042 L 0.7336353323517346,2.576857159071988 L 0.6934426998126402,2.6050030105154764 L 0.6562023816556173,2.6369528988950193 L 0.6222730225021463,2.672399129319936 L 0.5919813806285494,2.711000335214355 L 0.5656191811051652,2.752384765863946 L 0.5434403063244482,2.796153866578524 L 0.525658350974743,2.8418861169915814 L 0.5124445650066726,2.889141090531851 L 0.5039262044024997,2.9374636959719433 L 0.5001853056314524,2.986388560205647 L 0.5012578955936788,3.0354445100453398 L 0.5071336446615056,3.084159109877356 L 0.5177559661593982,3.1320632114752045 L 0.5330225613245807,3.1786954721534517 L 0.5527864045000421,3.223606797749979 L 0.5768571590719873,3.2663646676482645 L 0.6050030105154756,3.3065573001873587 L 0.6369528988950185,3.343797618344382 L 0.6723991293199354,3.377726977497853 L 0.7110003352143539,3.40801861937145 L 0.7523847658639451,3.434380818894834 L 0.7961538665785225,3.456559693675551 L 0.8418861169915802,3.4743416490252566 L 0.8891410905318496,3.487555434993327 L 0.9374636959719418,3.4960737955975 L 0.9863885602056451,3.4998146943685478 L 1.0354445100453382,3.4987421044063214 L 1.0841591098773544,3.492866355338495 L 1.1320632114752025,3.4822440338406024 L 1.1786954721534495,3.46697743867542 L 1.223606797749977,3.4472135954999588 L 2.901273475458933,2.608380256645481 L 4.391619743354519,4.098726524541067 L 3.552786404500042,5.776393202250021 L 3.5333978318233776,5.820326917283431 L 3.518313361915128,5.865918000124948 L 3.507672139239506,5.91274590256615 L 3.5015723221830375,5.960378667538935 L 3.5000701776070233,6.00837691363968 L 3.50317956182219,6.056297888138091 L 3.5108717927732003,6.103699551084356 L 3.5230759146120323,6.150144652841353 L 3.5396793522197196,6.19520476742934 L 3.5605289496389037,6.2384642444781075 L 3.5854323828383388,6.279524043332415 L 3.6141599337775023,6.318005413943566 L 3.646446609406726,6.353553390593274 L 4.292893218813452,7.0 L 3.792893218813452,7.5 L 3.118033988749896,7.5 L 1.223606797749979,6.552786404500042 L 1.1786954721534506,6.5330225613245805 L 1.1320632114752036,6.517755966159398 L 1.0841591098773555,6.507133644661505 L 1.035444510045339,6.501257895593679 L 0.986388560205646,6.500185305631453 L 0.9374636959719425,6.5039262044025 L 0.8891410905318503,6.512444565006673 L 0.8418861169915808,6.5256583509747434 L 0.7961538665785228,6.543440306324449 L 0.7523847658639455,6.565619181105165 L 0.7110003352143541,6.59198138062855 L 0.6723991293199354,6.622273022502147 L 0.6369528988950185,6.656202381655618 L 0.6050030105154757,6.693442699812641 L 0.5768571590719873,6.733635332351735 L 0.5527864045000421,6.776393202250021 L 0.5330225613245807,6.821304527846548 L 0.5177559661593983,6.867936788524795 L 0.5071336446615056,6.915840890122643 L 0.5012578955936788,6.96455548995466 L 0.5001853056314524,7.013611439794353 L 0.5039262044024997,7.062536304028057 L 0.5124445650066725,7.110858909468148 L 0.5256583509747428,7.158113883008418 L 0.543440306324448,7.203846133421476 L 0.565619181105165,7.247615234136053 L 0.591981380628549,7.288999664785645 L 0.6222730225021458,7.3276008706800635 L 0.6562023816556167,7.36304710110498 L 0.6934426998126395,7.3949969894845236 L 0.7336353323517334,7.423142840928011 L 0.776393202250019,7.4472135954999565 L 2.776393202250021,8.447213595499958 L 2.8187643813762056,8.465997479115554 L 2.8626928464794785,8.480777230733832 L 2.907801137636565,8.491425853795757 L 2.9537016571456296,8.497851848895772 L 3.0,8.5 L 4.0,8.5 L 4.04900857016478,8.497592363336098 L 4.097545161008064,8.490392640201616 L 4.145142338627231,8.478470167866105 L 4.191341716182545,8.461939766255643 L 4.235698368412999,8.440960632174177 L 4.2777851165098015,8.415734806151272 L 4.317196642081823,8.386505226681368 L 4.353553390593274,8.353553390593273 L 5.2961795736232,7.410927207563348 L 7.223606797749977,6.447213595499959 L 7.223606797749979,6.447213595499958 L 9.223606797749978,5.447213595499958 L 9.267411177030944,5.422482262821678 L 9.308508860532214,5.393474628118656 L 9.34648386367258,5.360484302313599 L 9.380951809172542,5.323845208530507 L 9.411563817663426,5.2839282021749625 L 9.438010038991958,5.241137317191396 L 9.460022788476989,5.195905676492171 L 9.477379256373647,5.148691107952505 L 9.489903763120113,5.099971510345461 L 9.497469537539766,5.050240016122329 L 9.5,5.0 L 9.5,3.0 L 9.497592363336098,2.950991429835219 L 9.497326335830342,2.949198018066639 L 9.490392640201616,2.9024548389919356 L 9.47921914369231,2.857847740479613 L 9.478470167866105,2.854857661372768 L 9.461939766255643,2.8086582838174547 L 9.440960632174177,2.7643016315870006 L 9.415734806151272,2.7222148834901985 L 9.386505226681368,2.682803357918177 L 9.353553390593273,2.646446609406726 L 8.353553390593273,1.6464466094067263 L 8.317196642081822,1.6134947733186311 L 8.2777851165098,1.584265193848727 L 8.235698368412999,1.559039367825822 L 8.191341716182544,1.5380602337443565 L 8.145142338627231,1.5215298321338955 L 8.097545161008064,1.5096073597983848 L 8.04900857016478,1.5024076366639014 L 8.0,1.5 L 7.950991429835219,1.5024076366639016 L 7.902454838991936,1.5096073597983848 L 7.854857661372769,1.5215298321338957 L 7.808658283817455,1.5380602337443565 L 7.764301631587001,1.5590393678258225 L 7.722214883490199,1.5842651938487273 L 7.682803357918178,1.6134947733186316 L 7.646446609406726,1.6464466094067263 L 7.613494773318632,1.6828033579181771 L 7.5842651938487275,1.7222148834901985 L 7.5590393678258225,1.7643016315870008 L 7.538060233744357,1.8086582838174547 L 7.521529832133895,1.8548576613727683 L 7.509607359798385,1.9024548389919353 L 7.502407636663902,1.950991429835219 L 7.5,1.9999999999999991 L 7.502407636663902,2.049008570164779 L 7.509607359798385,2.097545161008063 L 7.521529832133895,2.1451423386272297 L 7.538060233744356,2.1913417161825435 L 7.559039367825822,2.235698368412997 L 7.584265193848727,2.2777851165097993 L 7.61349477331863,2.317196642081821 L 7.646446609406724,2.353553390593272 L 8.292893218813452,3.0 L 7.646446609406726,3.646446609406726 L 7.610632038653785,3.6863240674245272 L 7.579291921190186,3.729806157686458 L 7.552786404500042,3.776393202250021 L 6.627322003750034,5.627322003750034 L 5.098726524541067,6.391619743354519 L 4.608380256645481,5.901273475458933 L 5.447213595499958,4.223606797749979 L 5.466602168176621,4.179673082716572 L 5.481686638084871,4.134081999875055 L 5.4923278607604935,4.087254097433852 L 5.498427677816962,4.039621332461067 L 5.499929822392977,3.991623086360322 L 5.49682043817781,3.9437021118619104 L 5.4891282072268,3.896300448915646 L 5.476924085387968,3.8498553471586483 L 5.460320647780281,3.8047952325706604 L 5.439471050361097,3.7615357555218925 L 5.414567617161661,3.7204759566675847 L 5.385840066222498,3.6819945860564345 L 5.353553390593274,3.646446609406726 L 3.353553390593274,1.6464466094067263 L 3.348436435207539,1.6417991021694953 L 3.343797618344383,1.6369528988950197 L 3.33121831471779,1.6261606348475588 L 3.3180054139435655,1.6141599337775023 L 3.3120376426685616,1.6097048052159881 L 3.3065573001873605,1.6050030105154767 L 3.2933584203354407,1.5957601794774436 L 3.2795240433324153,1.5854323828383383 L 3.272698539350504,1.5812926040958963 L 3.2663646676482667,1.5768571590719884 L 3.2527321563020477,1.569182669309175 L 3.2384642444781075,1.5605289496389034 L 3.2307900110758845,1.556830230009056 L 3.223606797749981,1.552786404500043 L 1.223606797749979,0.5527864045000421 L 1.1786954721534506,0.5330225613245803 L 1.1320632114752036,0.517755966159398 L 1.0841591098773555,0.5071336446615053 L 1.035444510045339,0.5012578955936787 L 0.986388560205646,0.5001853056314524 L 0.9374636959719425,0.5039262044024999 L 0.8891410905318503,0.5124445650066727 L 0.8418861169915808,0.5256583509747432 L 0.7961538665785228,0.5434403063244486 L 0.7523847658639455,0.5656191811051656 L 0.7110003352143541,0.5919813806285499 L 0.6723991293199354,0.6222730225021469 L 0.6369528988950185,0.656202381655618 L 0.6050030105154757,0.693442699812641 L 0.5768571590719873,0.7336353323517351 L 0.5527864045000421,0.776393202250021 L 0.5330225613245807,0.8213045278465485 L 0.5177559661593983,0.8679367885247954 L 0.5071336446615056,0.9158408901226436 L 0.5012578955936788,0.96455548995466 L 0.5001853056314524,1.013611439794353 L 0.5039262044024997,1.0625363040280564 L 0.5124445650066725,1.1108589094681485 L 0.5256583509747428,1.158113883008418 L 0.543440306324448,1.2038461334214758 L 0.565619181105165,1.2476152341360534 L 0.591981380628549,1.2889996647856445 L 0.6222730225021458,1.3276008706800633 L 0.6562023816556167,1.3630471011049803 L 0.6934426998126395,1.394996989484523 L 0.7336353323517334,1.4231428409280116 L 0.776393202250019,1.447213595499957 L 1.881966011250105,2.0 z M 8.5,4.207106781186547 L 8.5,4.6909830056250525 L 8.118033988749895,4.881966011250105 L 8.410927207563349,4.296179573623198 L 8.5,4.207106781186547 z\" /></g></svg>"
      ],
      "text/plain": [
       "<shapely.geometry.polygon.Polygon at 0x1a8ec45d790>"
      ]
     },
     "execution_count": 131,
     "metadata": {},
     "output_type": "execute_result"
    }
   ],
   "source": [
    "koridor_full"
   ]
  },
  {
   "cell_type": "markdown",
   "metadata": {},
   "source": [
    "теперь усложняем - режем такой коридор поопорно   \n",
    "разрезать такой целиковый коридор будет довольно сложно,   \n",
    "поэтому лучше будет построить отдельно коридор на каждую линию, а затем объединить общие участки"
   ]
  },
  {
   "cell_type": "code",
   "execution_count": 147,
   "metadata": {},
   "outputs": [],
   "source": [
    "mid_points = []\n",
    "str_boxes = []\n",
    "\n",
    "\n",
    "for line in m_lines_2d.geoms:\n",
    "    kor_spam = line.buffer(0.5)\n",
    "    for i in range(len(line.coords)-1):\n",
    "        mp = LineString([line.coords[i], line.coords[i+1]]).interpolate(0.5, normalized = True)   # mid point\n",
    "        mid_points.append(mp)\n",
    "        spam = LineString([line.coords[i], mp])       # line from str to mid \n",
    "        left = spam.parallel_offset(0.6, 'left')      # left parallel line\n",
    "        right = spam.parallel_offset(0.6, 'right')    # right parallel line\n",
    "        xline = LineString([left.boundary[1], right.boundary[0]])    # x-line - connect ends of parallels\n",
    "\n",
    "        cut = split(kor_spam, xline)\n",
    "        if Point(line.coords[i]).within(cut[0]):\n",
    "            str_boxes.append(cut[0])\n",
    "            kor_spam = cut[1]\n",
    "        else:\n",
    "            str_boxes.append(cut[1])\n",
    "            kor_spam = cut[0]\n",
    "        \n",
    "    str_boxes.append(kor_spam)"
   ]
  },
  {
   "cell_type": "code",
   "execution_count": 148,
   "metadata": {},
   "outputs": [
    {
     "data": {
      "text/plain": [
       "(14, 18)"
      ]
     },
     "execution_count": 148,
     "metadata": {},
     "output_type": "execute_result"
    }
   ],
   "source": [
    "len(mid_points), len(str_boxes)"
   ]
  },
  {
   "cell_type": "code",
   "execution_count": 155,
   "metadata": {},
   "outputs": [
    {
     "data": {
      "text/plain": [
       "<AxesSubplot:>"
      ]
     },
     "execution_count": 155,
     "metadata": {},
     "output_type": "execute_result"
    },
    {
     "data": {
      "image/png": "[encoded data removed]",
      "text/plain": [
       "<Figure size 432x288 with 1 Axes>"
      ]
     },
     "metadata": {
      "needs_background": "light"
     },
     "output_type": "display_data"
    }
   ],
   "source": [
    "ax = gpd.GeoSeries(str_boxes).plot(color='blue', edgecolor='black', alpha=0.3)\n",
    "gpd.GeoSeries(m_lines_2d).plot(ax=ax)\n",
    "c_lines_p.plot(ax=ax)"
   ]
  },
  {
   "cell_type": "markdown",
   "metadata": {},
   "source": [
    "теперь надо объединить узловые боксы  \n",
    "для этого надо найти узловые точки, а заодно и список уникальных координат опор  "
   ]
  },
  {
   "cell_type": "code",
   "execution_count": 166,
   "metadata": {},
   "outputs": [
    {
     "data": {
      "text/html": [
       "<div>\n",
       "<style scoped>\n",
       "    .dataframe tbody tr th:only-of-type {\n",
       "        vertical-align: middle;\n",
       "    }\n",
       "\n",
       "    .dataframe tbody tr th {\n",
       "        vertical-align: top;\n",
       "    }\n",
       "\n",
       "    .dataframe thead th {\n",
       "        text-align: right;\n",
       "    }\n",
       "</style>\n",
       "<table border=\"1\" class=\"dataframe\">\n",
       "  <thead>\n",
       "    <tr style=\"text-align: right;\">\n",
       "      <th></th>\n",
       "      <th>c_line</th>\n",
       "      <th>id</th>\n",
       "      <th>x</th>\n",
       "      <th>y</th>\n",
       "      <th>z</th>\n",
       "      <th>geometry</th>\n",
       "    </tr>\n",
       "    <tr>\n",
       "      <th>index</th>\n",
       "      <th></th>\n",
       "      <th></th>\n",
       "      <th></th>\n",
       "      <th></th>\n",
       "      <th></th>\n",
       "      <th></th>\n",
       "    </tr>\n",
       "  </thead>\n",
       "  <tbody>\n",
       "    <tr>\n",
       "      <th>1</th>\n",
       "      <td>1</td>\n",
       "      <td>t1</td>\n",
       "      <td>1</td>\n",
       "      <td>3</td>\n",
       "      <td>1</td>\n",
       "      <td>POINT Z (1.00000 3.00000 1.00000)</td>\n",
       "    </tr>\n",
       "    <tr>\n",
       "      <th>2</th>\n",
       "      <td>1</td>\n",
       "      <td>t2</td>\n",
       "      <td>3</td>\n",
       "      <td>2</td>\n",
       "      <td>2</td>\n",
       "      <td>POINT Z (3.00000 2.00000 2.00000)</td>\n",
       "    </tr>\n",
       "    <tr>\n",
       "      <th>3</th>\n",
       "      <td>1</td>\n",
       "      <td>t3</td>\n",
       "      <td>5</td>\n",
       "      <td>4</td>\n",
       "      <td>1</td>\n",
       "      <td>POINT Z (5.00000 4.00000 1.00000)</td>\n",
       "    </tr>\n",
       "    <tr>\n",
       "      <th>4</th>\n",
       "      <td>1</td>\n",
       "      <td>t4</td>\n",
       "      <td>4</td>\n",
       "      <td>6</td>\n",
       "      <td>1</td>\n",
       "      <td>POINT Z (4.00000 6.00000 1.00000)</td>\n",
       "    </tr>\n",
       "    <tr>\n",
       "      <th>5</th>\n",
       "      <td>1</td>\n",
       "      <td>t5</td>\n",
       "      <td>5</td>\n",
       "      <td>7</td>\n",
       "      <td>1</td>\n",
       "      <td>POINT Z (5.00000 7.00000 1.00000)</td>\n",
       "    </tr>\n",
       "  </tbody>\n",
       "</table>\n",
       "</div>"
      ],
      "text/plain": [
       "       c_line  id  x  y  z                           geometry\n",
       "index                                                        \n",
       "1           1  t1  1  3  1  POINT Z (1.00000 3.00000 1.00000)\n",
       "2           1  t2  3  2  2  POINT Z (3.00000 2.00000 2.00000)\n",
       "3           1  t3  5  4  1  POINT Z (5.00000 4.00000 1.00000)\n",
       "4           1  t4  4  6  1  POINT Z (4.00000 6.00000 1.00000)\n",
       "5           1  t5  5  7  1  POINT Z (5.00000 7.00000 1.00000)"
      ]
     },
     "execution_count": 166,
     "metadata": {},
     "output_type": "execute_result"
    }
   ],
   "source": [
    "c_lines_p.head()"
   ]
  },
  {
   "cell_type": "code",
   "execution_count": null,
   "metadata": {},
   "outputs": [],
   "source": []
  },
  {
   "cell_type": "code",
   "execution_count": null,
   "metadata": {},
   "outputs": [],
   "source": []
  },
  {
   "cell_type": "code",
   "execution_count": null,
   "metadata": {},
   "outputs": [],
   "source": []
  },
  {
   "cell_type": "code",
   "execution_count": null,
   "metadata": {},
   "outputs": [],
   "source": []
  },
  {
   "cell_type": "code",
   "execution_count": null,
   "metadata": {},
   "outputs": [],
   "source": []
  },
  {
   "cell_type": "code",
   "execution_count": null,
   "metadata": {},
   "outputs": [],
   "source": []
  }
 ],
 "metadata": {
  "kernelspec": {
   "display_name": "Python 3",
   "language": "python",
   "name": "python3"
  },
  "language_info": {
   "codemirror_mode": {
    "name": "ipython",
    "version": 3
   },
   "file_extension": ".py",
   "mimetype": "text/x-python",
   "name": "python",
   "nbconvert_exporter": "python",
   "pygments_lexer": "ipython3",
   "version": "3.9.1"
  }
 },
 "nbformat": 4,
 "nbformat_minor": 4
}
