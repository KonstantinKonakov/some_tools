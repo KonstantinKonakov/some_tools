{
 "cells": [
  {
   "cell_type": "code",
   "execution_count": 1,
   "metadata": {},
   "outputs": [],
   "source": [
    "import geopandas as gpd\n",
    "from shapely.geometry import Point, MultiPoint, Polygon\n",
    "import numpy as np"
   ]
  },
  {
   "cell_type": "code",
   "execution_count": 2,
   "metadata": {},
   "outputs": [],
   "source": [
    "list_1 = [[184706907, 576535759, 41029],\n",
    " [184706892, 576535770, 41006],\n",
    " [184707037, 576535996, 40855],\n",
    " [184706797, 576535831, 40873],\n",
    " [184707018, 576536009, 40831],\n",
    " [184706693, 576535903, 40712],\n",
    " [184706594, 576535968, 40405],\n",
    " [184706597, 576535963, 40448],\n",
    " [184706580, 576535969, 40461],\n",
    " [184706591, 576535979, 40455],\n",
    " [184706718, 576536183, 40423],\n",
    " [184706711, 576536175, 40438],\n",
    " [184706509, 576536019, 40451],\n",
    " [184706497, 576536033, 40446],\n",
    " [184706482, 576536034, 40370]]\n"
   ]
  },
  {
   "cell_type": "code",
   "execution_count": 3,
   "metadata": {},
   "outputs": [],
   "source": [
    "mp = MultiPoint(list_1)"
   ]
  },
  {
   "cell_type": "code",
   "execution_count": 4,
   "metadata": {},
   "outputs": [
    {
     "name": "stdout",
     "output_type": "stream",
     "text": [
      "POINT (184706708.2 576535972.7333333)\n"
     ]
    }
   ],
   "source": [
    "c = mp.centroid\n",
    "print(c)"
   ]
  },
  {
   "cell_type": "code",
   "execution_count": 5,
   "metadata": {},
   "outputs": [],
   "source": [
    "b = c.buffer(250)"
   ]
  },
  {
   "cell_type": "code",
   "execution_count": 6,
   "metadata": {},
   "outputs": [],
   "source": [
    "cut = mp.intersection(b)"
   ]
  },
  {
   "cell_type": "code",
   "execution_count": 7,
   "metadata": {},
   "outputs": [],
   "source": [
    "poly = cut.convex_hull\n",
    "poly_buf = poly.buffer(100)\n",
    "poly_c = poly_buf.centroid"
   ]
  },
  {
   "cell_type": "code",
   "execution_count": 8,
   "metadata": {},
   "outputs": [],
   "source": [
    "rect = cut.minimum_rotated_rectangle\n",
    "rect_c = rect.centroid"
   ]
  },
  {
   "cell_type": "code",
   "execution_count": 9,
   "metadata": {},
   "outputs": [
    {
     "data": {
      "text/plain": [
       "<AxesSubplot:>"
      ]
     },
     "execution_count": 9,
     "metadata": {},
     "output_type": "execute_result"
    },
    {
     "data": {
      "image/png": "[encoded data removed]",
      "text/plain": [
       "<Figure size 432x288 with 1 Axes>"
      ]
     },
     "metadata": {
      "needs_background": "light"
     },
     "output_type": "display_data"
    }
   ],
   "source": [
    "ax = gpd.GeoSeries(mp).plot()\n",
    "gpd.GeoSeries(b).plot(ax=ax, color='grey', alpha=0.3)\n",
    "\n",
    "gpd.GeoSeries(cut).plot(ax=ax, color='white')\n",
    "gpd.GeoSeries(poly).plot(ax=ax, color='blue', alpha=0.3)\n",
    "gpd.GeoSeries(poly_buf).plot(ax=ax, color='yellow', alpha=0.3)\n",
    "gpd.GeoSeries(rect).plot(ax=ax, color='green', alpha=0.3)\n",
    "gpd.GeoSeries(rect_c).plot(ax=ax, color='green')\n",
    "gpd.GeoSeries(poly_c).plot(ax=ax, color='blue')"
   ]
  },
  {
   "cell_type": "code",
   "execution_count": 10,
   "metadata": {},
   "outputs": [],
   "source": [
    "z_m = np.mean(mp, axis=0)[2] "
   ]
  },
  {
   "cell_type": "code",
   "execution_count": 11,
   "metadata": {},
   "outputs": [
    {
     "data": {
      "text/plain": [
       "(41029.0, 40370.0)"
      ]
     },
     "execution_count": 11,
     "metadata": {},
     "output_type": "execute_result"
    }
   ],
   "source": [
    "np.max(mp, axis=0)[2], np.min(mp, axis=0)[2]"
   ]
  },
  {
   "cell_type": "code",
   "execution_count": 12,
   "metadata": {},
   "outputs": [],
   "source": [
    "mp_z = []\n",
    "for i in range(len(mp)):\n",
    "    if mp[i].z > z_m:\n",
    "        mp_z.append(mp[i])\n",
    "mp_z = MultiPoint(mp_z)"
   ]
  },
  {
   "cell_type": "code",
   "execution_count": 13,
   "metadata": {},
   "outputs": [
    {
     "name": "stdout",
     "output_type": "stream",
     "text": [
      "POINT Z (184706892 576535770 41006)\n"
     ]
    }
   ],
   "source": [
    "print(mp_z[1])"
   ]
  },
  {
   "cell_type": "code",
   "execution_count": 17,
   "metadata": {},
   "outputs": [],
   "source": [
    "# x-y bounding box is a (minx, miny, maxx, maxy) tuple\n",
    "bo = mp.bounds\n",
    "bo_xmin = bo[0]\n",
    "bo_xmax = bo[2]\n",
    "bo_ymin = bo[1]\n",
    "bo_ymax = bo[3]"
   ]
  },
  {
   "cell_type": "code",
   "execution_count": 35,
   "metadata": {},
   "outputs": [
    {
     "name": "stdout",
     "output_type": "stream",
     "text": [
      "184706482.0 576535759.0 184707037.0 576536183.0\n"
     ]
    }
   ],
   "source": [
    "print(bo_xmin,\n",
    "bo_xmax,\n",
    "bo_ymin,\n",
    "bo_ymax)"
   ]
  },
  {
   "cell_type": "code",
   "execution_count": 45,
   "metadata": {},
   "outputs": [],
   "source": [
    "def ifinbounds(x, y, bounds):\n",
    "    if bounds[2] >= x >= bounds[0] and bounds[3] >= y >= bounds[1]:\n",
    "        return True\n",
    "    else: \n",
    "        return False"
   ]
  },
  {
   "cell_type": "code",
   "execution_count": 55,
   "metadata": {},
   "outputs": [
    {
     "data": {
      "text/plain": [
       "True"
      ]
     },
     "execution_count": 55,
     "metadata": {},
     "output_type": "execute_result"
    }
   ],
   "source": [
    "test_x, test_y = 184706690, 576535964\n",
    "ifinbounds(test_x, test_y, bo)"
   ]
  }
 ],
 "metadata": {
  "kernelspec": {
   "display_name": "Python 3",
   "language": "python",
   "name": "python3"
  },
  "language_info": {
   "codemirror_mode": {
    "name": "ipython",
    "version": 3
   },
   "file_extension": ".py",
   "mimetype": "text/x-python",
   "name": "python",
   "nbconvert_exporter": "python",
   "pygments_lexer": "ipython3",
   "version": "3.9.1"
  }
 },
 "nbformat": 4,
 "nbformat_minor": 4
}
